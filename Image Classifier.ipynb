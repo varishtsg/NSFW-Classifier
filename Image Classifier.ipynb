{
 "cells": [
  {
   "cell_type": "code",
   "execution_count": 1,
   "metadata": {},
   "outputs": [
    {
     "name": "stdout",
     "output_type": "stream",
     "text": [
      "WARNING:tensorflow:From /media/senpai/Linux/tensorflow-env/lib/python3.6/site-packages/tensorflow_core/python/compat/v2_compat.py:88: disable_resource_variables (from tensorflow.python.ops.variable_scope) is deprecated and will be removed in a future version.\n",
      "Instructions for updating:\n",
      "non-resource variables are not supported in the long term\n"
     ]
    }
   ],
   "source": [
    "import tensorflow.compat.v1 as tf\n",
    "import cv2\n",
    "tf.disable_v2_behavior()"
   ]
  },
  {
   "cell_type": "code",
   "execution_count": 2,
   "metadata": {},
   "outputs": [
    {
     "data": {
      "text/plain": [
       "'2.1.0-dev20191123'"
      ]
     },
     "execution_count": 2,
     "metadata": {},
     "output_type": "execute_result"
    }
   ],
   "source": [
    "tf.__version__"
   ]
  },
  {
   "cell_type": "code",
   "execution_count": 3,
   "metadata": {},
   "outputs": [
    {
     "name": "stdout",
     "output_type": "stream",
     "text": [
      "[name: \"/device:CPU:0\"\n",
      "device_type: \"CPU\"\n",
      "memory_limit: 268435456\n",
      "locality {\n",
      "}\n",
      "incarnation: 6996200370140416180\n",
      ", name: \"/device:XLA_CPU:0\"\n",
      "device_type: \"XLA_CPU\"\n",
      "memory_limit: 17179869184\n",
      "locality {\n",
      "}\n",
      "incarnation: 4324876248875108227\n",
      "physical_device_desc: \"device: XLA_CPU device\"\n",
      ", name: \"/device:XLA_GPU:0\"\n",
      "device_type: \"XLA_GPU\"\n",
      "memory_limit: 17179869184\n",
      "locality {\n",
      "}\n",
      "incarnation: 6796217413183888674\n",
      "physical_device_desc: \"device: XLA_GPU device\"\n",
      ", name: \"/device:GPU:0\"\n",
      "device_type: \"GPU\"\n",
      "memory_limit: 5633736704\n",
      "locality {\n",
      "  bus_id: 1\n",
      "  links {\n",
      "  }\n",
      "}\n",
      "incarnation: 14870933296649624740\n",
      "physical_device_desc: \"device: 0, name: GeForce GTX 1060 with Max-Q Design, pci bus id: 0000:01:00.0, compute capability: 6.1\"\n",
      "]\n"
     ]
    }
   ],
   "source": [
    "from tensorflow.python.client import device_lib \n",
    "print(device_lib.list_local_devices())"
   ]
  },
  {
   "cell_type": "code",
   "execution_count": 8,
   "metadata": {},
   "outputs": [
    {
     "data": {
      "text/plain": [
       "array([ 16, 128, 128,   3], dtype=int32)"
      ]
     },
     "execution_count": 8,
     "metadata": {},
     "output_type": "execute_result"
    }
   ],
   "source": [
    "a = tf.truncated_normal([16,128,128,3])\n",
    "sess = tf.Session()\n",
    "sess.run(tf.global_variables_initializer())\n",
    "sess.run(tf.shape(a))"
   ]
  },
  {
   "cell_type": "code",
   "execution_count": 9,
   "metadata": {},
   "outputs": [
    {
     "data": {
      "text/plain": [
       "array([   16, 49152], dtype=int32)"
      ]
     },
     "execution_count": 9,
     "metadata": {},
     "output_type": "execute_result"
    }
   ],
   "source": [
    "b = tf.reshape(a, [16, 49152])\n",
    "sess.run(tf.shape(b))"
   ]
  },
  {
   "cell_type": "markdown",
   "metadata": {},
   "source": [
    "# Actual Code ;)"
   ]
  },
  {
   "cell_type": "code",
   "execution_count": 10,
   "metadata": {},
   "outputs": [],
   "source": [
    "import dataset\n",
    "import time, math, random, os\n",
    "import numpy as np\n",
    "\n",
    "from datetime import timedelta"
   ]
  },
  {
   "cell_type": "code",
   "execution_count": 11,
   "metadata": {},
   "outputs": [],
   "source": [
    "# Set the random seed as constant for consistent results\n",
    "from numpy.random import seed\n",
    "seed(3)\n",
    "tf.set_random_seed(2)"
   ]
  },
  {
   "cell_type": "code",
   "execution_count": 12,
   "metadata": {},
   "outputs": [],
   "source": [
    "batch_size = 32"
   ]
  },
  {
   "cell_type": "code",
   "execution_count": 13,
   "metadata": {},
   "outputs": [
    {
     "name": "stdout",
     "output_type": "stream",
     "text": [
      "(['NSFW', 'SFW'], 2)\n"
     ]
    }
   ],
   "source": [
    "# Prepare the input data\n",
    "classes = os.listdir('images')\n",
    "num_classes = len(classes)\n",
    "\n",
    "print((classes, num_classes))"
   ]
  },
  {
   "cell_type": "code",
   "execution_count": 14,
   "metadata": {},
   "outputs": [],
   "source": [
    "# 20% data will be used for validation\n",
    "validation_size = 0.2\n",
    "img_size = 128\n",
    "num_channels = 3\n",
    "train_path = 'images'"
   ]
  },
  {
   "cell_type": "code",
   "execution_count": 15,
   "metadata": {},
   "outputs": [
    {
     "name": "stdout",
     "output_type": "stream",
     "text": [
      "Going to read training images\n",
      "Now going to read NSFW files (Index: 0)\n",
      "Now going to read SFW files (Index: 1)\n"
     ]
    }
   ],
   "source": [
    "# Loading the training and validation data set and labels into memory and use that during training\n",
    "data = dataset.read_train_sets(train_path=train_path, image_size=img_size, classes=classes, validation_size=validation_size)"
   ]
  },
  {
   "cell_type": "code",
   "execution_count": 16,
   "metadata": {},
   "outputs": [
    {
     "name": "stdout",
     "output_type": "stream",
     "text": [
      "Complete reading input data. Will Now print a snippet of it\n",
      "Number of files in Training-set:\t1345\n",
      "Number of files in Validation-set:\t336\n"
     ]
    }
   ],
   "source": [
    "print(\"Complete reading input data. Will Now print a snippet of it\")\n",
    "print(\"Number of files in Training-set:\\t{}\".format(len(data.train.labels)))\n",
    "print(\"Number of files in Validation-set:\\t{}\".format(len(data.valid.labels)))"
   ]
  },
  {
   "cell_type": "code",
   "execution_count": 17,
   "metadata": {},
   "outputs": [],
   "source": [
    "session = tf.Session()\n",
    "x = tf.placeholder(tf.float32, shape=[None, img_size, img_size, num_channels], name='x')"
   ]
  },
  {
   "cell_type": "code",
   "execution_count": 18,
   "metadata": {},
   "outputs": [
    {
     "name": "stdout",
     "output_type": "stream",
     "text": [
      "WARNING:tensorflow:From <ipython-input-18-ddbae14da262>:3: calling argmax (from tensorflow.python.ops.math_ops) with dimension is deprecated and will be removed in a future version.\n",
      "Instructions for updating:\n",
      "Use the `axis` argument instead\n"
     ]
    }
   ],
   "source": [
    "# Labels\n",
    "y_true = tf.placeholder(tf.float32, shape=[None, num_classes], name='y_true')\n",
    "y_true_cls = tf.argmax(y_true, dimension=1)"
   ]
  },
  {
   "cell_type": "code",
   "execution_count": 19,
   "metadata": {},
   "outputs": [],
   "source": [
    "# Network graph params\n",
    "filter_size_conv1 = 3\n",
    "num_filters_conv1 = 32\n",
    "\n",
    "filter_size_conv2 = 3\n",
    "num_filters_conv2 = 32\n",
    "\n",
    "filter_size_conv3 = 3\n",
    "num_filters_conv3 = 64\n",
    "\n",
    "fc_layer_size = 128"
   ]
  },
  {
   "cell_type": "code",
   "execution_count": 20,
   "metadata": {},
   "outputs": [],
   "source": [
    "def create_weights(shape):\n",
    "    return tf.Variable(tf.truncated_normal(shape, stddev=0.05))\n",
    "\n",
    "def create_biases(size):\n",
    "    return tf.Variable(tf.constant(0.05, shape=[size]))"
   ]
  },
  {
   "cell_type": "code",
   "execution_count": 21,
   "metadata": {},
   "outputs": [],
   "source": [
    "def create_convolutional_layer(input,\n",
    "                              num_input_channels,\n",
    "                              conv_filter_size,\n",
    "                              num_filters):\n",
    "    ## Weights that will be trained using create weights function\n",
    "    weights = create_weights(shape=[conv_filter_size, conv_filter_size, num_input_channels, num_filters])\n",
    "    ## Biases to train\n",
    "    biases = create_biases(num_filters)\n",
    "    \n",
    "    ## creating the convolution layer\n",
    "    layer = tf.nn.conv2d(input=input,\n",
    "                        filter= weights,\n",
    "                        strides=[1,1,1,1],\n",
    "                        padding = 'SAME')\n",
    "    layer += biases\n",
    "    \n",
    "    ## Using max pooling\n",
    "    layer = tf.nn.max_pool(value=layer,\n",
    "                          ksize=[1,2,2,1],\n",
    "                          strides=[1,2,2,1],\n",
    "                          padding = 'SAME')\n",
    "    \n",
    "    ## Feeding output of pooling to ReLu which is the activation function\n",
    "    layer = tf.nn.relu(layer)\n",
    "    \n",
    "    return layer"
   ]
  },
  {
   "cell_type": "code",
   "execution_count": 22,
   "metadata": {},
   "outputs": [],
   "source": [
    "def create_flatten_layer(layer):\n",
    "    # We know that the shape of the layer will be [batch_size img_size img_size num_channels] \n",
    "    # But let's get it from the previous layer.\n",
    "    \n",
    "    layer_shape = layer.get_shape()\n",
    "    \n",
    "    ## Number of features will be img_height * img_width* num_channels. But we shall calculate it in place of hard-coding it.\n",
    "    num_features = layer_shape[1:4].num_elements()\n",
    "    \n",
    "    ## Flattening the layer to reshape to num of features\n",
    "    layer = tf.reshape(layer, [-1, num_features])\n",
    "    \n",
    "    return layer"
   ]
  },
  {
   "cell_type": "code",
   "execution_count": 23,
   "metadata": {},
   "outputs": [],
   "source": [
    "def create_fc_layer(input,\n",
    "                   num_inputs,\n",
    "                   num_outputs,\n",
    "                   use_relu = True):\n",
    "    \n",
    "    ## Defining trainable weights and biases\n",
    "    weights = create_weights(shape=[num_inputs, num_outputs])\n",
    "    biases = create_biases(num_outputs)\n",
    "    \n",
    "    ## FC layer takes x and gives us wx + b which are matrices so we use tf.matmul\n",
    "    layer = tf.matmul(input, weights) + biases\n",
    "    \n",
    "    if use_relu:\n",
    "        layer = tf.nn.relu(layer)\n",
    "    \n",
    "    return layer"
   ]
  },
  {
   "cell_type": "code",
   "execution_count": 24,
   "metadata": {},
   "outputs": [],
   "source": [
    "layer_conv1 = create_convolutional_layer(input=x,\n",
    "                                         num_input_channels=num_channels,\n",
    "                                         conv_filter_size=filter_size_conv1,\n",
    "                                         num_filters=num_filters_conv1)\n",
    "\n",
    "layer_conv2 = create_convolutional_layer(input=layer_conv1, \n",
    "                                         num_input_channels=num_filters_conv1, \n",
    "                                         conv_filter_size=filter_size_conv2,\n",
    "                                         num_filters=num_filters_conv2)\n",
    "\n",
    "layer_conv3 = create_convolutional_layer(input=layer_conv2, \n",
    "                                         num_input_channels=num_filters_conv2, \n",
    "                                         conv_filter_size=filter_size_conv3,\n",
    "                                         num_filters=num_filters_conv3)\n",
    "\n",
    "layer_flat = create_flatten_layer(layer=layer_conv3)\n",
    "\n",
    "layer_fc1 = create_fc_layer(input=layer_flat, \n",
    "                            num_inputs=layer_flat.get_shape()[1:4].num_elements(),\n",
    "                            num_outputs=fc_layer_size,\n",
    "                            use_relu=True)\n",
    "\n",
    "layer_fc2 = create_fc_layer(input=layer_fc1, \n",
    "                            num_inputs=fc_layer_size, \n",
    "                            num_outputs= num_classes, \n",
    "                            use_relu=False) "
   ]
  },
  {
   "cell_type": "code",
   "execution_count": 25,
   "metadata": {},
   "outputs": [
    {
     "data": {
      "text/plain": [
       "tensorflow.python.framework.ops.Tensor"
      ]
     },
     "execution_count": 25,
     "metadata": {},
     "output_type": "execute_result"
    }
   ],
   "source": [
    "type(layer_fc2)"
   ]
  },
  {
   "cell_type": "code",
   "execution_count": 26,
   "metadata": {},
   "outputs": [
    {
     "name": "stdout",
     "output_type": "stream",
     "text": [
      "WARNING:tensorflow:From <ipython-input-26-464e5ab55c0f>:5: softmax_cross_entropy_with_logits (from tensorflow.python.ops.nn_ops) is deprecated and will be removed in a future version.\n",
      "Instructions for updating:\n",
      "\n",
      "Future major versions of TensorFlow will allow gradients to flow\n",
      "into the labels input on backprop by default.\n",
      "\n",
      "See `tf.nn.softmax_cross_entropy_with_logits_v2`.\n",
      "\n"
     ]
    }
   ],
   "source": [
    "y_pred = tf.nn.softmax(layer_fc2, name='y_pred')\n",
    "y_pred_cls = tf.argmax(y_pred, dimension=1)\n",
    "session.run(tf.global_variables_initializer())\n",
    "cross_entropy = tf.nn.softmax_cross_entropy_with_logits(logits=layer_fc2,\n",
    "                                                    labels=y_true)\n",
    "cost = tf.reduce_mean(cross_entropy)\n",
    "optimizer = tf.compat.v1.train.AdamOptimizer(learning_rate=1e-4).minimize(cost)\n",
    "correct_prediction = tf.equal(y_pred_cls, y_true_cls)\n",
    "accuracy = tf.reduce_mean(tf.cast(correct_prediction, tf.float32))\n",
    "\n",
    "\n",
    "session.run(tf.global_variables_initializer())"
   ]
  },
  {
   "cell_type": "code",
   "execution_count": 27,
   "metadata": {},
   "outputs": [],
   "source": [
    "def show_progress(epoch, feed_dict_train, feed_dict_validate, val_loss):\n",
    "    acc = session.run(accuracy, feed_dict=feed_dict_train)\n",
    "    val_acc = session.run(accuracy, feed_dict=feed_dict_validate)\n",
    "    msg = \"Training Epoch {0} --- Training Accuracy: {1:>6.1%}, Validation Accuracy: {2:>6.1%},  Validation Loss: {3:.3f}\"\n",
    "    print(msg.format(epoch + 1, acc, val_acc, val_loss))"
   ]
  },
  {
   "cell_type": "code",
   "execution_count": 28,
   "metadata": {},
   "outputs": [],
   "source": [
    "saver = tf.train.Saver()"
   ]
  },
  {
   "cell_type": "code",
   "execution_count": 29,
   "metadata": {},
   "outputs": [],
   "source": [
    "total_iterations = 0\n",
    "def train(num_iteration):\n",
    "    global total_iterations\n",
    "    tf.debugging.set_log_device_placement(True)\n",
    "    \n",
    "    for i in range(total_iterations, total_iterations + num_iteration):\n",
    "        ## print(\"Iteration number: {0}\".format(i))\n",
    "        x_batch, y_true_batch, _, cls_batch = data.train.next_batch(batch_size=batch_size)\n",
    "        x_valid_batch, y_valid_batch, _, valid_cls_batch = data.valid.next_batch(batch_size=batch_size)\n",
    "        \n",
    "        feed_dict_tr = {x: x_batch, y_true:y_true_batch}\n",
    "        feed_dict_val = {x: x_valid_batch, y_true: y_valid_batch}\n",
    "        \n",
    "        session.run(optimizer, feed_dict=feed_dict_tr)\n",
    "        \n",
    "        if i%int(data.train.num_examples / batch_size) == 0:\n",
    "            val_loss = session.run(cost, feed_dict=feed_dict_val)\n",
    "            epoch = int(i / int(data.train.num_examples / batch_size))\n",
    "            \n",
    "            show_progress(epoch=epoch, feed_dict_train=feed_dict_tr, feed_dict_validate=feed_dict_val, val_loss=val_loss)\n",
    "            \n",
    "            saver.save(sess=session, save_path='./trained-model/nsfw-model')\n",
    "            \n",
    "    total_iterations += num_iteration\n",
    "\n"
   ]
  },
  {
   "cell_type": "code",
   "execution_count": 30,
   "metadata": {},
   "outputs": [
    {
     "name": "stdout",
     "output_type": "stream",
     "text": [
      "Training Epoch 1 --- Training Accuracy:  62.5%, Validation Accuracy:  71.9%,  Validation Loss: 0.634\n",
      "Training Epoch 2 --- Training Accuracy:  62.5%, Validation Accuracy:  50.0%,  Validation Loss: 0.686\n",
      "Training Epoch 3 --- Training Accuracy:  62.5%, Validation Accuracy:  65.6%,  Validation Loss: 0.607\n",
      "Training Epoch 4 --- Training Accuracy:  62.5%, Validation Accuracy:  84.4%,  Validation Loss: 0.456\n",
      "Training Epoch 5 --- Training Accuracy:  62.5%, Validation Accuracy:  75.0%,  Validation Loss: 0.535\n",
      "Training Epoch 6 --- Training Accuracy:  68.8%, Validation Accuracy:  71.9%,  Validation Loss: 0.503\n",
      "Training Epoch 7 --- Training Accuracy:  71.9%, Validation Accuracy:  75.0%,  Validation Loss: 0.549\n",
      "Training Epoch 8 --- Training Accuracy:  71.9%, Validation Accuracy:  68.8%,  Validation Loss: 0.598\n",
      "Training Epoch 9 --- Training Accuracy:  71.9%, Validation Accuracy:  87.5%,  Validation Loss: 0.372\n",
      "Training Epoch 10 --- Training Accuracy:  71.9%, Validation Accuracy:  78.1%,  Validation Loss: 0.461\n",
      "Training Epoch 11 --- Training Accuracy:  71.9%, Validation Accuracy:  75.0%,  Validation Loss: 0.475\n",
      "Training Epoch 12 --- Training Accuracy:  71.9%, Validation Accuracy:  65.6%,  Validation Loss: 0.537\n",
      "Training Epoch 13 --- Training Accuracy:  71.9%, Validation Accuracy:  62.5%,  Validation Loss: 0.587\n",
      "Training Epoch 14 --- Training Accuracy:  68.8%, Validation Accuracy:  87.5%,  Validation Loss: 0.349\n",
      "Training Epoch 15 --- Training Accuracy:  68.8%, Validation Accuracy:  81.2%,  Validation Loss: 0.447\n",
      "Training Epoch 16 --- Training Accuracy:  68.8%, Validation Accuracy:  75.0%,  Validation Loss: 0.488\n",
      "Training Epoch 17 --- Training Accuracy:  68.8%, Validation Accuracy:  68.8%,  Validation Loss: 0.577\n",
      "Training Epoch 18 --- Training Accuracy:  68.8%, Validation Accuracy:  65.6%,  Validation Loss: 0.591\n",
      "Training Epoch 19 --- Training Accuracy:  71.9%, Validation Accuracy:  87.5%,  Validation Loss: 0.347\n",
      "Training Epoch 20 --- Training Accuracy:  71.9%, Validation Accuracy:  81.2%,  Validation Loss: 0.457\n",
      "Training Epoch 21 --- Training Accuracy:  71.9%, Validation Accuracy:  81.2%,  Validation Loss: 0.531\n",
      "Training Epoch 22 --- Training Accuracy:  71.9%, Validation Accuracy:  65.6%,  Validation Loss: 0.612\n",
      "Training Epoch 23 --- Training Accuracy:  71.9%, Validation Accuracy:  65.6%,  Validation Loss: 0.607\n",
      "Training Epoch 24 --- Training Accuracy:  75.0%, Validation Accuracy:  90.6%,  Validation Loss: 0.328\n",
      "Training Epoch 25 --- Training Accuracy:  75.0%, Validation Accuracy:  71.9%,  Validation Loss: 0.491\n",
      "Training Epoch 26 --- Training Accuracy:  78.1%, Validation Accuracy:  81.2%,  Validation Loss: 0.570\n",
      "Training Epoch 27 --- Training Accuracy:  78.1%, Validation Accuracy:  75.0%,  Validation Loss: 0.628\n",
      "Training Epoch 28 --- Training Accuracy:  78.1%, Validation Accuracy:  75.0%,  Validation Loss: 0.629\n",
      "Training Epoch 29 --- Training Accuracy:  78.1%, Validation Accuracy:  90.6%,  Validation Loss: 0.315\n",
      "Training Epoch 30 --- Training Accuracy:  78.1%, Validation Accuracy:  71.9%,  Validation Loss: 0.521\n",
      "Training Epoch 31 --- Training Accuracy:  78.1%, Validation Accuracy:  78.1%,  Validation Loss: 0.616\n",
      "Training Epoch 32 --- Training Accuracy:  81.2%, Validation Accuracy:  78.1%,  Validation Loss: 0.674\n",
      "Training Epoch 33 --- Training Accuracy:  81.2%, Validation Accuracy:  75.0%,  Validation Loss: 0.654\n",
      "Training Epoch 34 --- Training Accuracy:  84.4%, Validation Accuracy:  90.6%,  Validation Loss: 0.308\n",
      "Training Epoch 35 --- Training Accuracy:  90.6%, Validation Accuracy:  71.9%,  Validation Loss: 0.550\n",
      "Training Epoch 36 --- Training Accuracy:  90.6%, Validation Accuracy:  78.1%,  Validation Loss: 0.661\n",
      "Training Epoch 37 --- Training Accuracy:  90.6%, Validation Accuracy:  78.1%,  Validation Loss: 0.682\n",
      "Training Epoch 38 --- Training Accuracy:  90.6%, Validation Accuracy:  75.0%,  Validation Loss: 0.686\n",
      "Training Epoch 39 --- Training Accuracy:  90.6%, Validation Accuracy:  90.6%,  Validation Loss: 0.303\n",
      "Training Epoch 40 --- Training Accuracy:  93.8%, Validation Accuracy:  68.8%,  Validation Loss: 0.584\n",
      "Training Epoch 41 --- Training Accuracy:  93.8%, Validation Accuracy:  78.1%,  Validation Loss: 0.720\n",
      "Training Epoch 42 --- Training Accuracy:  93.8%, Validation Accuracy:  78.1%,  Validation Loss: 0.757\n",
      "Training Epoch 43 --- Training Accuracy:  93.8%, Validation Accuracy:  75.0%,  Validation Loss: 0.748\n",
      "Training Epoch 44 --- Training Accuracy:  93.8%, Validation Accuracy:  90.6%,  Validation Loss: 0.302\n",
      "Training Epoch 45 --- Training Accuracy:  93.8%, Validation Accuracy:  68.8%,  Validation Loss: 0.642\n",
      "Training Epoch 46 --- Training Accuracy:  96.9%, Validation Accuracy:  81.2%,  Validation Loss: 0.808\n",
      "Training Epoch 47 --- Training Accuracy:  96.9%, Validation Accuracy:  75.0%,  Validation Loss: 0.828\n",
      "Training Epoch 48 --- Training Accuracy: 100.0%, Validation Accuracy:  71.9%,  Validation Loss: 0.827\n",
      "Training Epoch 49 --- Training Accuracy: 100.0%, Validation Accuracy:  90.6%,  Validation Loss: 0.307\n",
      "Training Epoch 50 --- Training Accuracy: 100.0%, Validation Accuracy:  71.9%,  Validation Loss: 0.733\n",
      "Training Epoch 51 --- Training Accuracy: 100.0%, Validation Accuracy:  78.1%,  Validation Loss: 0.913\n",
      "Training Epoch 52 --- Training Accuracy: 100.0%, Validation Accuracy:  71.9%,  Validation Loss: 1.032\n",
      "Training Epoch 53 --- Training Accuracy: 100.0%, Validation Accuracy:  75.0%,  Validation Loss: 0.929\n",
      "Training Epoch 54 --- Training Accuracy: 100.0%, Validation Accuracy:  93.8%,  Validation Loss: 0.381\n",
      "Training Epoch 55 --- Training Accuracy: 100.0%, Validation Accuracy:  62.5%,  Validation Loss: 1.051\n",
      "Training Epoch 56 --- Training Accuracy: 100.0%, Validation Accuracy:  78.1%,  Validation Loss: 1.206\n",
      "Training Epoch 57 --- Training Accuracy: 100.0%, Validation Accuracy:  71.9%,  Validation Loss: 1.246\n",
      "Training Epoch 58 --- Training Accuracy: 100.0%, Validation Accuracy:  75.0%,  Validation Loss: 0.975\n",
      "Training Epoch 59 --- Training Accuracy: 100.0%, Validation Accuracy:  93.8%,  Validation Loss: 0.404\n",
      "Training Epoch 60 --- Training Accuracy:  96.9%, Validation Accuracy:  68.8%,  Validation Loss: 0.871\n",
      "Training Epoch 61 --- Training Accuracy:  93.8%, Validation Accuracy:  75.0%,  Validation Loss: 0.950\n",
      "Training Epoch 62 --- Training Accuracy: 100.0%, Validation Accuracy:  71.9%,  Validation Loss: 0.918\n",
      "Training Epoch 63 --- Training Accuracy: 100.0%, Validation Accuracy:  71.9%,  Validation Loss: 1.048\n",
      "Training Epoch 64 --- Training Accuracy: 100.0%, Validation Accuracy:  87.5%,  Validation Loss: 0.417\n",
      "Training Epoch 65 --- Training Accuracy: 100.0%, Validation Accuracy:  75.0%,  Validation Loss: 0.859\n",
      "Training Epoch 66 --- Training Accuracy: 100.0%, Validation Accuracy:  78.1%,  Validation Loss: 0.972\n",
      "Training Epoch 67 --- Training Accuracy: 100.0%, Validation Accuracy:  71.9%,  Validation Loss: 1.063\n",
      "Training Epoch 68 --- Training Accuracy: 100.0%, Validation Accuracy:  71.9%,  Validation Loss: 1.188\n",
      "Training Epoch 69 --- Training Accuracy: 100.0%, Validation Accuracy:  90.6%,  Validation Loss: 0.404\n",
      "Training Epoch 70 --- Training Accuracy: 100.0%, Validation Accuracy:  75.0%,  Validation Loss: 0.931\n",
      "Training Epoch 71 --- Training Accuracy: 100.0%, Validation Accuracy:  78.1%,  Validation Loss: 1.045\n",
      "Training Epoch 72 --- Training Accuracy: 100.0%, Validation Accuracy:  75.0%,  Validation Loss: 1.231\n"
     ]
    }
   ],
   "source": [
    "train(num_iteration=3000)"
   ]
  },
  {
   "cell_type": "code",
   "execution_count": null,
   "metadata": {},
   "outputs": [],
   "source": [
    "from tensorflow.python.client import device_lib \n",
    "print(device_lib.list_local_devices())"
   ]
  },
  {
   "cell_type": "code",
   "execution_count": 6,
   "metadata": {},
   "outputs": [],
   "source": [
    "import numpy as np"
   ]
  },
  {
   "cell_type": "code",
   "execution_count": null,
   "metadata": {},
   "outputs": [],
   "source": [
    "sess = tf.Session(config=tf.ConfigProto(log_device_placement=True))"
   ]
  },
  {
   "cell_type": "code",
   "execution_count": null,
   "metadata": {},
   "outputs": [],
   "source": [
    "tf.__version__"
   ]
  },
  {
   "cell_type": "code",
   "execution_count": 11,
   "metadata": {},
   "outputs": [],
   "source": [
    "def predict(file_name, meta_graph, checkpoint):\n",
    "    image_size = 128\n",
    "    num_channels = 3\n",
    "    images = []\n",
    "    \n",
    "    image = cv2.imread(file_name)\n",
    "    \n",
    "    image = cv2.resize(image, (image_size, image_size), 0,0, cv2.INTER_LINEAR)\n",
    "    \n",
    "    images.append(image)\n",
    "    images = np.array(images, dtype=np.uint8)\n",
    "    \n",
    "    images = images.astype('float32')\n",
    "    images = np.multiply(images, 1.0 / 255.0)\n",
    "    \n",
    "    x_batch = images.reshape(1, image_size, image_size, num_channels)\n",
    "    \n",
    "    sess = tf.Session()\n",
    "    \n",
    "    saver = tf.train.import_meta_graph(meta_graph)\n",
    "    \n",
    "    saver.restore(sess,save_path=tf.train.latest_checkpoint(checkpoint))\n",
    "    \n",
    "    graph = tf.get_default_graph()\n",
    "    \n",
    "    # Now, let's get hold of the op that we can be processed to get the output.\n",
    "    # In the original network y_pred is the tensor that is the prediction of the network\n",
    "    y_pred = graph.get_tensor_by_name(\"y_pred:0\")\n",
    "    \n",
    "    ## Let's feed the images to the input placeholders\n",
    "    x= graph.get_tensor_by_name(\"x:0\") \n",
    "    #y_true = graph.get_tensor_by_name(\"y_true:0\") \n",
    "    #y_test_images = np.zeros((1, len(os.listdir('training_data'))))\n",
    "    \n",
    "    feed_dict_testing = {x: x_batch}\n",
    "    result=sess.run(y_pred, feed_dict=feed_dict_testing)\n",
    "    \n",
    "    print(result)\n",
    "    \n",
    "    return result"
   ]
  },
  {
   "cell_type": "code",
   "execution_count": 24,
   "metadata": {},
   "outputs": [
    {
     "name": "stdout",
     "output_type": "stream",
     "text": [
      "INFO:tensorflow:Restoring parameters from ./trained-model/nsfw-model\n",
      "[[0.9989889  0.00101107]]\n"
     ]
    },
    {
     "data": {
      "text/plain": [
       "0"
      ]
     },
     "execution_count": 24,
     "metadata": {},
     "output_type": "execute_result"
    }
   ],
   "source": [
    "predictions = predict(\"./images/D7YZJFh.jpg\", \"./trained-model/nsfw-model.meta\", \"./trained-model/\")\n",
    "np.argmax(predictions[0])"
   ]
  },
  {
   "cell_type": "code",
   "execution_count": 16,
   "metadata": {},
   "outputs": [
    {
     "data": {
      "text/plain": [
       "0"
      ]
     },
     "execution_count": 16,
     "metadata": {},
     "output_type": "execute_result"
    }
   ],
   "source": [
    "np.argmax(predictions[0])"
   ]
  },
  {
   "cell_type": "code",
   "execution_count": null,
   "metadata": {},
   "outputs": [],
   "source": []
  }
 ],
 "metadata": {
  "kernelspec": {
   "display_name": "tensorflow-env",
   "language": "python",
   "name": "tensorflow-env"
  },
  "language_info": {
   "codemirror_mode": {
    "name": "ipython",
    "version": 3
   },
   "file_extension": ".py",
   "mimetype": "text/x-python",
   "name": "python",
   "nbconvert_exporter": "python",
   "pygments_lexer": "ipython3",
   "version": "3.6.8"
  }
 },
 "nbformat": 4,
 "nbformat_minor": 2
}
