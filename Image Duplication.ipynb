{
 "cells": [
  {
   "cell_type": "code",
   "execution_count": 1,
   "metadata": {},
   "outputs": [],
   "source": [
    "from pathlib import Path\n",
    "import imagededup as id"
   ]
  },
  {
   "cell_type": "code",
   "execution_count": 2,
   "metadata": {},
   "outputs": [],
   "source": [
    "image_dir = Path('./images')"
   ]
  },
  {
   "cell_type": "code",
   "execution_count": 3,
   "metadata": {},
   "outputs": [],
   "source": [
    "from imagededup.methods import PHash"
   ]
  },
  {
   "cell_type": "code",
   "execution_count": 4,
   "metadata": {},
   "outputs": [
    {
     "name": "stderr",
     "output_type": "stream",
     "text": [
      "2019-10-31 23:23:13,575: INFO Start: Calculating hashes...\n",
      "100%|██████████| 3/3 [00:00<00:00, 23.33it/s]\n",
      "2019-10-31 23:23:13,825: INFO End: Calculating hashes!\n",
      "2019-10-31 23:23:13,827: INFO Start: Evaluating hamming distances for getting duplicates\n",
      "2019-10-31 23:23:13,829: INFO Start: Retrieving duplicates using Cython Brute force algorithm\n",
      "100%|██████████| 3/3 [00:00<00:00, 9978.52it/s]\n",
      "2019-10-31 23:23:13,974: INFO End: Retrieving duplicates using Cython Brute force algorithm\n",
      "2019-10-31 23:23:13,976: INFO End: Evaluating hamming distances for getting duplicates\n"
     ]
    }
   ],
   "source": [
    "phasher = PHash()\n",
    "duplicates = phasher.find_duplicates(image_dir=image_dir, scores=True)\n"
   ]
  },
  {
   "cell_type": "code",
   "execution_count": 5,
   "metadata": {},
   "outputs": [
    {
     "data": {
      "text/plain": [
       "{'005 - Hfa6c0E (copy).jpg': [('005 - Hfa6c0E.jpg', 0)],\n",
       " 'garden-of-words-screenshot-032.png': [],\n",
       " '005 - Hfa6c0E.jpg': [('005 - Hfa6c0E (copy).jpg', 0)]}"
      ]
     },
     "execution_count": 5,
     "metadata": {},
     "output_type": "execute_result"
    }
   ],
   "source": [
    "duplicates"
   ]
  },
  {
   "cell_type": "code",
   "execution_count": 6,
   "metadata": {},
   "outputs": [
    {
     "name": "stdout",
     "output_type": "stream",
     "text": [
      "WARNING:tensorflow:From /home/senpai/.local/lib/python3.6/site-packages/tensorflow/python/ops/init_ops.py:1251: calling VarianceScaling.__init__ (from tensorflow.python.ops.init_ops) with dtype is deprecated and will be removed in a future version.\n",
      "Instructions for updating:\n",
      "Call initializer instance with the dtype argument instead of passing it to the constructor\n",
      "Downloading data from https://github.com/fchollet/deep-learning-models/releases/download/v0.6/mobilenet_1_0_224_tf_no_top.h5\n",
      "17227776/17225924 [==============================] - 7s 0us/step\n"
     ]
    },
    {
     "name": "stderr",
     "output_type": "stream",
     "text": [
      "2019-10-31 23:24:45,442: INFO Initialized: MobileNet pretrained on ImageNet dataset sliced at last conv layer and added GlobalAveragePooling\n"
     ]
    }
   ],
   "source": [
    "from imagededup.methods import CNN\n",
    "\n",
    "cnn_encoder = CNN()"
   ]
  },
  {
   "cell_type": "code",
   "execution_count": 7,
   "metadata": {},
   "outputs": [
    {
     "name": "stderr",
     "output_type": "stream",
     "text": [
      "2019-10-31 23:25:12,148: INFO Start: Image encoding generation\n"
     ]
    },
    {
     "name": "stdout",
     "output_type": "stream",
     "text": [
      "\r",
      "1/1 [==============================] - 0s 448ms/step\n"
     ]
    },
    {
     "name": "stderr",
     "output_type": "stream",
     "text": [
      "2019-10-31 23:25:12,663: INFO End: Image encoding generation\n",
      "2019-10-31 23:25:12,664: INFO Start: Calculating cosine similarities...\n",
      "2019-10-31 23:25:12,666: INFO End: Calculating cosine similarities.\n"
     ]
    }
   ],
   "source": [
    "duplicates_cnn = cnn_encoder.find_duplicates(image_dir=image_dir, scores=True)"
   ]
  },
  {
   "cell_type": "code",
   "execution_count": 8,
   "metadata": {},
   "outputs": [
    {
     "data": {
      "text/plain": [
       "{'005 - Hfa6c0E (copy).jpg': [('005 - Hfa6c0E.jpg', 1.0000002)],\n",
       " '005 - Hfa6c0E.jpg': [('005 - Hfa6c0E (copy).jpg', 1.0000002)],\n",
       " 'garden-of-words-screenshot-032.png': []}"
      ]
     },
     "execution_count": 8,
     "metadata": {},
     "output_type": "execute_result"
    }
   ],
   "source": [
    "duplicates_cnn"
   ]
  },
  {
   "cell_type": "code",
   "execution_count": null,
   "metadata": {},
   "outputs": [],
   "source": []
  }
 ],
 "metadata": {
  "kernelspec": {
   "display_name": "Python 3",
   "language": "python",
   "name": "python3"
  },
  "language_info": {
   "codemirror_mode": {
    "name": "ipython",
    "version": 3
   },
   "file_extension": ".py",
   "mimetype": "text/x-python",
   "name": "python",
   "nbconvert_exporter": "python",
   "pygments_lexer": "ipython3",
   "version": "3.6.8"
  }
 },
 "nbformat": 4,
 "nbformat_minor": 2
}
